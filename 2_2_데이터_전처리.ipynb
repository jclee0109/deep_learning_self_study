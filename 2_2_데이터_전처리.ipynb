{
  "nbformat": 4,
  "nbformat_minor": 0,
  "metadata": {
    "colab": {
      "provenance": [],
      "authorship_tag": "ABX9TyNTFG+vldLeq+KddxevmCNp",
      "include_colab_link": true
    },
    "kernelspec": {
      "name": "python3",
      "display_name": "Python 3"
    },
    "language_info": {
      "name": "python"
    }
  },
  "cells": [
    {
      "cell_type": "markdown",
      "metadata": {
        "id": "view-in-github",
        "colab_type": "text"
      },
      "source": [
        "<a href=\"https://colab.research.google.com/github/jclee0109/deep_learning_self_study/blob/main/2_2_%EB%8D%B0%EC%9D%B4%ED%84%B0_%EC%A0%84%EC%B2%98%EB%A6%AC.ipynb\" target=\"_parent\"><img src=\"https://colab.research.google.com/assets/colab-badge.svg\" alt=\"Open In Colab\"/></a>"
      ]
    },
    {
      "cell_type": "code",
      "execution_count": 1,
      "metadata": {
        "id": "xSAj7oo0AAn3"
      },
      "outputs": [],
      "source": [
        "fish_length = [25.4, 26.3, 26.5, 29.0, 29.0, 29.7, 29.7, 30.0, 30.0, 30.7, 31.0, 31.0, \n",
        "                31.5, 32.0, 32.0, 32.0, 33.0, 33.0, 33.5, 33.5, 34.0, 34.0, 34.5, 35.0, \n",
        "                35.0, 35.0, 35.0, 36.0, 36.0, 37.0, 38.5, 38.5, 39.5, 41.0, 41.0, 9.8, \n",
        "                10.5, 10.6, 11.0, 11.2, 11.3, 11.8, 11.8, 12.0, 12.2, 12.4, 13.0, 14.3, 15.0]\n",
        "fish_weight = [242.0, 290.0, 340.0, 363.0, 430.0, 450.0, 500.0, 390.0, 450.0, 500.0, 475.0, 500.0, \n",
        "                500.0, 340.0, 600.0, 600.0, 700.0, 700.0, 610.0, 650.0, 575.0, 685.0, 620.0, 680.0, \n",
        "                700.0, 725.0, 720.0, 714.0, 850.0, 1000.0, 920.0, 955.0, 925.0, 975.0, 950.0, 6.7, \n",
        "                7.5, 7.0, 9.7, 9.8, 8.7, 10.0, 9.9, 9.8, 12.2, 13.4, 12.2, 19.7, 19.9]"
      ]
    },
    {
      "cell_type": "code",
      "source": [
        "import numpy as np\n",
        "\n",
        "fish_data = np.column_stack((fish_length, fish_weight))\n",
        "fish_target = np.concatenate((np.ones(35), np.zeros(14)))"
      ],
      "metadata": {
        "id": "FeU-tgxNAJvq"
      },
      "execution_count": 5,
      "outputs": []
    },
    {
      "cell_type": "code",
      "source": [
        "from sklearn.model_selection import train_test_split\n",
        "train_input, test_input, train_target, test_target = train_test_split(fish_data, fish_target, random_state=242)\n",
        "\n",
        "print(train_input.shape, test_input.shape)\n",
        "print(train_target.shape, test_target.shape)"
      ],
      "metadata": {
        "colab": {
          "base_uri": "https://localhost:8080/"
        },
        "id": "vg8YowktAf_p",
        "outputId": "724a83f7-ba89-4cb2-adb6-0fb6407e8263"
      },
      "execution_count": 11,
      "outputs": [
        {
          "output_type": "stream",
          "name": "stdout",
          "text": [
            "(36, 2) (13, 2)\n",
            "(36,) (13,)\n"
          ]
        }
      ]
    },
    {
      "cell_type": "code",
      "source": [
        "print(test_target)\n",
        "print(np.mean(test_target))\n",
        "print(np.mean(fish_target))\n",
        "# test_target과 전체 fish_target의 분포가 달라서 train을 할 때 한쪽으로 치우칠 수 있음!\n",
        "# 분포를 전체분포와 학습, test분포를 맞춰줘야함"
      ],
      "metadata": {
        "colab": {
          "base_uri": "https://localhost:8080/"
        },
        "id": "MF6SVU-3A6DK",
        "outputId": "3e1bad7a-0a1a-40e6-f85e-9a55b55159d7"
      },
      "execution_count": 12,
      "outputs": [
        {
          "output_type": "stream",
          "name": "stdout",
          "text": [
            "[1. 1. 0. 1. 0. 0. 1. 0. 1. 1. 1. 1. 0.]\n",
            "0.6153846153846154\n",
            "0.7142857142857143\n"
          ]
        }
      ]
    },
    {
      "cell_type": "code",
      "source": [
        "train_input, test_input, train_target, test_target = train_test_split(fish_data, fish_target, random_state=23, stratify=fish_target)\n",
        "\n",
        "print(test_target)\n",
        "print(np.mean(test_target))\n",
        "print(np.mean(fish_target))"
      ],
      "metadata": {
        "colab": {
          "base_uri": "https://localhost:8080/"
        },
        "id": "_RmvM1RNBBfV",
        "outputId": "e2531dd6-8922-4ca9-a613-b0b40c209184"
      },
      "execution_count": 13,
      "outputs": [
        {
          "output_type": "stream",
          "name": "stdout",
          "text": [
            "[1. 0. 1. 1. 0. 0. 1. 1. 1. 1. 1. 1. 0.]\n",
            "0.6923076923076923\n",
            "0.7142857142857143\n"
          ]
        }
      ]
    },
    {
      "cell_type": "code",
      "source": [
        "from sklearn.neighbors import KNeighborsClassifier\n",
        "\n",
        "kn=KNeighborsClassifier()\n",
        "kn.fit(train_input, train_target)\n",
        "kn.score(test_input, test_target)"
      ],
      "metadata": {
        "colab": {
          "base_uri": "https://localhost:8080/"
        },
        "id": "Hv1rjDMIB1-s",
        "outputId": "9003f3b2-3aca-46ff-af9c-fd0d4bb0787b"
      },
      "execution_count": 14,
      "outputs": [
        {
          "output_type": "execute_result",
          "data": {
            "text/plain": [
              "1.0"
            ]
          },
          "metadata": {},
          "execution_count": 14
        }
      ]
    },
    {
      "cell_type": "code",
      "source": [
        "print(kn.predict([[25, 150]]))"
      ],
      "metadata": {
        "colab": {
          "base_uri": "https://localhost:8080/"
        },
        "id": "xcJOdtXxCFM5",
        "outputId": "85e7a4b7-1144-4de1-a12a-cd5d03c3e362"
      },
      "execution_count": 17,
      "outputs": [
        {
          "output_type": "stream",
          "name": "stdout",
          "text": [
            "[0.]\n"
          ]
        }
      ]
    },
    {
      "cell_type": "code",
      "source": [
        "import matplotlib.pyplot as plt\n",
        "\n",
        "plt.scatter(train_input[:, 0], train_input[:, 1])\n",
        "plt.scatter(25, 150, marker='^')\n",
        "plt.xlabel(\"length\")\n",
        "plt.ylabel(\"weight\")\n",
        "\n",
        "plt.show()"
      ],
      "metadata": {
        "colab": {
          "base_uri": "https://localhost:8080/",
          "height": 279
        },
        "id": "vnEGTEkjCIdR",
        "outputId": "ccfcad28-9a1c-4257-91e9-e85e3c9301b7"
      },
      "execution_count": 22,
      "outputs": [
        {
          "output_type": "display_data",
          "data": {
            "text/plain": [
              "<Figure size 432x288 with 1 Axes>"
            ],
            "image/png": "[encoded data removed]"
          },
          "metadata": {
            "needs_background": "light"
          }
        }
      ]
    },
    {
      "cell_type": "markdown",
      "source": [
        "가까워 보이는 건, 오른쪽 위에 있는 그룹이야! (1)\n",
        "근데 아까 predict([[25,150]]) 을 했을 때는, 0을 출력했어.\n",
        "\n",
        "**Why?**\n",
        "\n",
        "Scale 차이 때문! weight는 scale이 커서 그래프에서 조금만 차이나도 거리차이가 매우 크다고 계산될거야. 하지만 length(x축)는 많이 차이나도 weight에 비해 영향이 매우 적지.\n",
        "\n",
        "\n",
        "**How?**\n",
        "\n",
        "Scale을 맞춰주면서 가능할 수 있어!\n",
        "Scale의 대표적인건 표준분포! 정규화가 있음."
      ],
      "metadata": {
        "id": "ZyRnU7biC8mO"
      }
    },
    {
      "cell_type": "code",
      "source": [
        "distances, indexes = kn.kneighbors([[25, 150]])"
      ],
      "metadata": {
        "id": "5OKqn6PaCpmn"
      },
      "execution_count": 24,
      "outputs": []
    },
    {
      "cell_type": "code",
      "source": [
        "print(distances, indexes)"
      ],
      "metadata": {
        "colab": {
          "base_uri": "https://localhost:8080/"
        },
        "id": "2dvZ5EUpDmz_",
        "outputId": "c4a1dbda-5814-4800-e2b9-4fb243e32eac"
      },
      "execution_count": 25,
      "outputs": [
        {
          "output_type": "stream",
          "name": "stdout",
          "text": [
            "[[130.48375378 130.73859415 137.17988191 138.32150953 140.00603558]] [[ 9  3 13  4 34]]\n"
          ]
        }
      ]
    },
    {
      "cell_type": "code",
      "source": [
        "plt.scatter(train_input[indexes, 0], train_input[indexes, 1])\n",
        "plt.scatter(25, 150, marker='^')\n",
        "plt.xlabel(\"length\")\n",
        "plt.ylabel(\"weight\")\n",
        "plt.show()"
      ],
      "metadata": {
        "colab": {
          "base_uri": "https://localhost:8080/",
          "height": 281
        },
        "id": "PcdAIHwwDts0",
        "outputId": "0ddd8f59-dd8f-47d3-de9d-656df8b63ac9"
      },
      "execution_count": 26,
      "outputs": [
        {
          "output_type": "display_data",
          "data": {
            "text/plain": [
              "<Figure size 432x288 with 1 Axes>"
            ],
            "image/png": "[encoded data removed]"
          },
          "metadata": {
            "needs_background": "light"
          }
        }
      ]
    },
    {
      "cell_type": "code",
      "source": [
        "mean = np.mean(train_input, axis=0)\n",
        "std = np.std(train_input, axis=0)\n",
        "\n",
        "print(mean, std)\n",
        "train_scaled = (train_input - mean)/std\n",
        "print(train_scaled)"
      ],
      "metadata": {
        "colab": {
          "base_uri": "https://localhost:8080/"
        },
        "id": "Mzfn6cMfEAjO",
        "outputId": "f9b2d35a-c68b-42e0-bf0e-924c5e531caf"
      },
      "execution_count": 28,
      "outputs": [
        {
          "output_type": "stream",
          "name": "stdout",
          "text": [
            "[ 27.53888889 461.85555556] [ 10.08800932 323.92739365]\n",
            "[[ 0.34309159  0.04057837]\n",
            " [-1.6890239  -1.40264629]\n",
            " [ 0.93785709  1.66131193]\n",
            " [-1.31233908 -1.36498352]\n",
            " [-1.44120494 -1.38813686]\n",
            " [ 1.33436743  1.50695636]\n",
            " [ 0.54134675  0.73517847]\n",
            " [ 0.83872951  1.1982452 ]\n",
            " [ 1.08654847  1.52239191]\n",
            " [-1.24294977 -1.3643661 ]\n",
            " [ 0.44221917  0.42646731]\n",
            " [ 0.73960192  0.73517847]\n",
            " [-1.61963459 -1.39554593]\n",
            " [-1.50068149 -1.38443233]\n",
            " [ 0.243964   -0.03659942]\n",
            " [ 0.54134675  0.73517847]\n",
            " [-1.56015804 -1.39523722]\n",
            " [ 0.83872951  0.77839803]\n",
            " [ 0.73960192  0.81235626]\n",
            " [ 1.18567606  1.42977857]\n",
            " [ 0.73960192  0.7969207 ]\n",
            " [ 0.73960192  0.67343624]\n",
            " [ 0.69003813  0.48820954]\n",
            " [ 0.44221917 -0.37618169]\n",
            " [ 0.59091055  0.45733843]\n",
            " [ 0.59091055  0.58082289]\n",
            " [ 0.14483642 -0.09834165]\n",
            " [-1.67911115 -1.40418984]\n",
            " [ 0.31335331  0.11775616]\n",
            " [-1.60972184 -1.39894175]\n",
            " [ 0.14483642 -0.30517813]\n",
            " [-1.75841321 -1.40511597]\n",
            " [ 0.44221917  0.42646731]\n",
            " [ 0.243964   -0.22182612]\n",
            " [-0.12280806 -0.53053727]\n",
            " [ 0.64047434  0.34928952]]\n"
          ]
        }
      ]
    },
    {
      "cell_type": "code",
      "source": [
        "plt.scatter(train_scaled[:, 0], train_scaled[:, 1])\n",
        "plt.scatter(25, 150, marker = \"^\")\n",
        "plt.xlabel(\"length_scaled\")\n",
        "plt.ylabel(\"weight_sclaed\")\n",
        "plt.show()"
      ],
      "metadata": {
        "colab": {
          "base_uri": "https://localhost:8080/",
          "height": 280
        },
        "id": "KbeUnOx6ET7G",
        "outputId": "24ac815d-6656-4376-ba82-c1a77d38eae2"
      },
      "execution_count": 30,
      "outputs": [
        {
          "output_type": "display_data",
          "data": {
            "text/plain": [
              "<Figure size 432x288 with 1 Axes>"
            ],
            "image/png": "[encoded data removed]"
          },
          "metadata": {
            "needs_background": "light"
          }
        }
      ]
    },
    {
      "cell_type": "code",
      "source": [
        "new = ([25, 150] - mean)/std\n",
        "print(new)"
      ],
      "metadata": {
        "colab": {
          "base_uri": "https://localhost:8080/"
        },
        "id": "2mHmeOdCEpgM",
        "outputId": "f6a39194-e21b-4676-f2b5-b49fa751c2cc"
      },
      "execution_count": 32,
      "outputs": [
        {
          "output_type": "stream",
          "name": "stdout",
          "text": [
            "[-0.25167392 -0.96273289]\n"
          ]
        }
      ]
    },
    {
      "cell_type": "code",
      "source": [
        "plt.scatter(train_scaled[:, 0], train_scaled[:, 1])\n",
        "plt.scatter(new[0], new[1], marker = \"^\")\n",
        "plt.xlabel(\"length_scaled\")\n",
        "plt.ylabel(\"weight_sclaed\")\n",
        "plt.show()"
      ],
      "metadata": {
        "colab": {
          "base_uri": "https://localhost:8080/",
          "height": 280
        },
        "id": "I_Q4t-u-E2CX",
        "outputId": "632a1ad6-1980-4482-85c0-f3e513dc4229"
      },
      "execution_count": 35,
      "outputs": [
        {
          "output_type": "display_data",
          "data": {
            "text/plain": [
              "<Figure size 432x288 with 1 Axes>"
            ],
            "image/png": "[encoded data removed]"
          },
          "metadata": {
            "needs_background": "light"
          }
        }
      ]
    },
    {
      "cell_type": "code",
      "source": [
        "kn.fit(train_scaled, train_target)\n",
        "test_scaled = (test_input - mean)/std\n",
        "\n",
        "kn.score(test_scaled, test_target)"
      ],
      "metadata": {
        "colab": {
          "base_uri": "https://localhost:8080/"
        },
        "id": "fpVfPqwkE4PE",
        "outputId": "d899ac1c-3fa1-49a3-9fe6-315ce027f948"
      },
      "execution_count": 37,
      "outputs": [
        {
          "output_type": "execute_result",
          "data": {
            "text/plain": [
              "1.0"
            ]
          },
          "metadata": {},
          "execution_count": 37
        }
      ]
    },
    {
      "cell_type": "code",
      "source": [
        "kn.predict([new])"
      ],
      "metadata": {
        "colab": {
          "base_uri": "https://localhost:8080/"
        },
        "id": "4CCkhoJ_FCmr",
        "outputId": "fdcabc24-1be0-4605-bac8-6fcc06d4902a"
      },
      "execution_count": 40,
      "outputs": [
        {
          "output_type": "execute_result",
          "data": {
            "text/plain": [
              "array([1.])"
            ]
          },
          "metadata": {},
          "execution_count": 40
        }
      ]
    },
    {
      "cell_type": "code",
      "source": [
        "distances, indexes = kn.kneighbors([new])\n",
        "plt.scatter(train_scaled[:, 0], train_scaled[:, 1])\n",
        "plt.scatter(train_scaled[indexes, 0], train_scaled[indexes, 1])\n",
        "plt.scatter(new[0], new[1], marker=\"D\")\n",
        "\n",
        "plt.xlabel(\"length_scaled\")\n",
        "plt.ylabel(\"weigth_scaled\")\n",
        "plt.show()"
      ],
      "metadata": {
        "colab": {
          "base_uri": "https://localhost:8080/",
          "height": 280
        },
        "id": "306TYKwvFOXY",
        "outputId": "15518177-4b01-4565-9375-2c5f6566de8f"
      },
      "execution_count": 41,
      "outputs": [
        {
          "output_type": "display_data",
          "data": {
            "text/plain": [
              "<Figure size 432x288 with 1 Axes>"
            ],
            "image/png": "[encoded data removed]"
          },
          "metadata": {
            "needs_background": "light"
          }
        }
      ]
    },
    {
      "cell_type": "code",
      "source": [],
      "metadata": {
        "id": "X6ELrXerFz2X"
      },
      "execution_count": null,
      "outputs": []
    }
  ]
}